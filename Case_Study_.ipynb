{
  "nbformat": 4,
  "nbformat_minor": 0,
  "metadata": {
    "colab": {
      "name": "Case Study .ipynb",
      "provenance": [],
      "collapsed_sections": [],
      "toc_visible": true,
      "authorship_tag": "ABX9TyOQhpYNUSk20ZVV5ujkmQ/v",
      "include_colab_link": true
    },
    "kernelspec": {
      "name": "python3",
      "display_name": "Python 3"
    },
    "language_info": {
      "name": "python"
    }
  },
  "cells": [
    {
      "cell_type": "markdown",
      "metadata": {
        "id": "view-in-github",
        "colab_type": "text"
      },
      "source": [
        "<a href=\"https://colab.research.google.com/github/FairuzFernanda30/Latihan/blob/main/Case_Study_.ipynb\" target=\"_parent\"><img src=\"https://colab.research.google.com/assets/colab-badge.svg\" alt=\"Open In Colab\"/></a>"
      ]
    },
    {
      "cell_type": "markdown",
      "source": [
        "# Case Study : SMS Spam Classfication\n",
        "\n",
        "Langkah - Langkah Diperlukan\n",
        "1. Akuisisi data\n",
        "2. Data preprocessing\n",
        "   1. Case Folding\n",
        "   2. Word Normalization\n",
        "   3. Stopword removal\n",
        "   4. steming\n",
        "3. Feature Engineering\n",
        " 1. bag of word\n",
        " 2. TF-IDF\n",
        " 3. Feature selection - chi square\n",
        "4. Modeliing # Qoming soon\n",
        "5. Evaluasi # Qoming soon\n",
        "6. Deployment # Qoming soon"
      ],
      "metadata": {
        "id": "QGUxTjYxMBYd"
      }
    },
    {
      "cell_type": "markdown",
      "source": [
        "#SETUP"
      ],
      "metadata": {
        "id": "uLI4VWpNMwRM"
      }
    },
    {
      "cell_type": "code",
      "execution_count": 1,
      "metadata": {
        "id": "dCaGafzFMAAq"
      },
      "outputs": [],
      "source": [
        "import numpy as np\n",
        "import pandas as pd\n",
        "import matplotlib.pyplot as plt\n",
        "\n",
        "%matplotlib inline"
      ]
    },
    {
      "cell_type": "code",
      "source": [
        "!pip -q install sastrawi"
      ],
      "metadata": {
        "colab": {
          "base_uri": "https://localhost:8080/"
        },
        "id": "wj8iD5qUNP-D",
        "outputId": "0176a1de-0696-4f30-b09f-7c982c386fb4"
      },
      "execution_count": 2,
      "outputs": [
        {
          "output_type": "stream",
          "name": "stdout",
          "text": [
            "\u001b[?25l\r\u001b[K     |█▋                              | 10 kB 26.7 MB/s eta 0:00:01\r\u001b[K     |███▏                            | 20 kB 32.9 MB/s eta 0:00:01\r\u001b[K     |████▊                           | 30 kB 35.1 MB/s eta 0:00:01\r\u001b[K     |██████▎                         | 40 kB 22.7 MB/s eta 0:00:01\r\u001b[K     |███████▉                        | 51 kB 15.3 MB/s eta 0:00:01\r\u001b[K     |█████████▍                      | 61 kB 17.6 MB/s eta 0:00:01\r\u001b[K     |███████████                     | 71 kB 15.9 MB/s eta 0:00:01\r\u001b[K     |████████████▌                   | 81 kB 14.5 MB/s eta 0:00:01\r\u001b[K     |██████████████                  | 92 kB 15.7 MB/s eta 0:00:01\r\u001b[K     |███████████████▋                | 102 kB 14.8 MB/s eta 0:00:01\r\u001b[K     |█████████████████▏              | 112 kB 14.8 MB/s eta 0:00:01\r\u001b[K     |██████████████████▊             | 122 kB 14.8 MB/s eta 0:00:01\r\u001b[K     |████████████████████▎           | 133 kB 14.8 MB/s eta 0:00:01\r\u001b[K     |█████████████████████▉          | 143 kB 14.8 MB/s eta 0:00:01\r\u001b[K     |███████████████████████▍        | 153 kB 14.8 MB/s eta 0:00:01\r\u001b[K     |█████████████████████████       | 163 kB 14.8 MB/s eta 0:00:01\r\u001b[K     |██████████████████████████▋     | 174 kB 14.8 MB/s eta 0:00:01\r\u001b[K     |████████████████████████████▏   | 184 kB 14.8 MB/s eta 0:00:01\r\u001b[K     |█████████████████████████████▊  | 194 kB 14.8 MB/s eta 0:00:01\r\u001b[K     |███████████████████████████████▎| 204 kB 14.8 MB/s eta 0:00:01\r\u001b[K     |████████████████████████████████| 209 kB 14.8 MB/s \n",
            "\u001b[?25h"
          ]
        }
      ]
    },
    {
      "cell_type": "code",
      "source": [
        "import nltk\n",
        "nltk.download('stopwords')"
      ],
      "metadata": {
        "colab": {
          "base_uri": "https://localhost:8080/"
        },
        "id": "yNJnFL_bNWR6",
        "outputId": "21813c33-51d2-4805-a4b3-323a7bb0aa7e"
      },
      "execution_count": 4,
      "outputs": [
        {
          "output_type": "stream",
          "name": "stdout",
          "text": [
            "[nltk_data] Downloading package stopwords to /root/nltk_data...\n",
            "[nltk_data]   Unzipping corpora/stopwords.zip.\n"
          ]
        },
        {
          "output_type": "execute_result",
          "data": {
            "text/plain": [
              "True"
            ]
          },
          "metadata": {},
          "execution_count": 4
        }
      ]
    },
    {
      "cell_type": "code",
      "source": [
        "import pickle\n",
        "# untuk mempermudah menyimpan objek untuk pemodelan maupun deployment"
      ],
      "metadata": {
        "id": "mdTO1cJzOBLN"
      },
      "execution_count": 5,
      "outputs": []
    },
    {
      "cell_type": "markdown",
      "source": [
        "# Data Aquisition\n",
        "Penjelasan label \n",
        "-0 --> SMS Normal\n",
        "-1 --> SMS Fraud\n",
        "-2 --> SMS Promo"
      ],
      "metadata": {
        "id": "SYSIzTC0PKr1"
      }
    },
    {
      "cell_type": "code",
      "source": [
        "!wget https://raw.githubusercontent.com/ksnugroho/klasifikasi-spam-sms/master/data/dataset_sms_spam_v1.csv"
      ],
      "metadata": {
        "colab": {
          "base_uri": "https://localhost:8080/"
        },
        "id": "i-4D2OrQPUq0",
        "outputId": "33ce60f2-fe71-467e-f547-2e02d04d09b8"
      },
      "execution_count": 6,
      "outputs": [
        {
          "output_type": "stream",
          "name": "stdout",
          "text": [
            "--2022-03-28 06:36:32--  https://raw.githubusercontent.com/ksnugroho/klasifikasi-spam-sms/master/data/dataset_sms_spam_v1.csv\n",
            "Resolving raw.githubusercontent.com (raw.githubusercontent.com)... 185.199.108.133, 185.199.109.133, 185.199.110.133, ...\n",
            "Connecting to raw.githubusercontent.com (raw.githubusercontent.com)|185.199.108.133|:443... connected.\n",
            "HTTP request sent, awaiting response... 200 OK\n",
            "Length: 128896 (126K) [text/plain]\n",
            "Saving to: ‘dataset_sms_spam_v1.csv’\n",
            "\n",
            "\rdataset_sms_spam_v1   0%[                    ]       0  --.-KB/s               \rdataset_sms_spam_v1 100%[===================>] 125.88K  --.-KB/s    in 0.008s  \n",
            "\n",
            "2022-03-28 06:36:32 (15.0 MB/s) - ‘dataset_sms_spam_v1.csv’ saved [128896/128896]\n",
            "\n"
          ]
        }
      ]
    },
    {
      "cell_type": "code",
      "source": [
        "data = pd.read_csv('dataset_sms_spam_v1.csv')\n",
        "data.head"
      ],
      "metadata": {
        "colab": {
          "base_uri": "https://localhost:8080/"
        },
        "id": "1I0O42oHPZ1a",
        "outputId": "8788f07d-8de4-45af-913d-a34752d07cd8"
      },
      "execution_count": 8,
      "outputs": [
        {
          "output_type": "execute_result",
          "data": {
            "text/plain": [
              "<bound method NDFrame.head of                                                    teks  label\n",
              "0     [PROMO] Beli paket Flash mulai 1GB di MY TELKO...      2\n",
              "1     2.5 GB/30 hari hanya Rp 35 Ribu Spesial buat A...      2\n",
              "2     2016-07-08 11:47:11.Plg Yth, sisa kuota Flash ...      2\n",
              "3     2016-08-07 11:29:47.Plg Yth, sisa kuota Flash ...      2\n",
              "4     4.5GB/30 hari hanya Rp 55 Ribu Spesial buat an...      2\n",
              "...                                                 ...    ...\n",
              "1138     Yooo sama2, oke nanti aku umumin di grup kelas      0\n",
              "1139  😁 sebelumnya ga ad nulis kerudung. Kirain warn...      0\n",
              "1140                               Mba mau kirim 300 ya      0\n",
              "1141  nama1  beaok bwrangkat pagi...mau cas atay tra...      0\n",
              "1142                         No bri atas nama kamu mana      0\n",
              "\n",
              "[1143 rows x 2 columns]>"
            ]
          },
          "metadata": {},
          "execution_count": 8
        }
      ]
    },
    {
      "cell_type": "code",
      "source": [
        "data.info()"
      ],
      "metadata": {
        "colab": {
          "base_uri": "https://localhost:8080/"
        },
        "id": "g2kXjIXDP64N",
        "outputId": "ec9a88d9-b88f-41db-c97d-3bfbf7e1aa77"
      },
      "execution_count": 9,
      "outputs": [
        {
          "output_type": "stream",
          "name": "stdout",
          "text": [
            "<class 'pandas.core.frame.DataFrame'>\n",
            "RangeIndex: 1143 entries, 0 to 1142\n",
            "Data columns (total 2 columns):\n",
            " #   Column  Non-Null Count  Dtype \n",
            "---  ------  --------------  ----- \n",
            " 0   teks    1143 non-null   object\n",
            " 1   label   1143 non-null   int64 \n",
            "dtypes: int64(1), object(1)\n",
            "memory usage: 18.0+ KB\n"
          ]
        }
      ]
    },
    {
      "cell_type": "code",
      "source": [
        "print('Total Jumlah SMS:', data.shape[0], 'data\\n')\n",
        "print('terdiri dari (label):')\n",
        "print('-- [0] SMS Normal\\t:', data[data.label == 0].shape[0], 'data')\n",
        "print('-- [1] Fraud / Penipuan\\t:', data[data.label == 1].shape[0], 'data')\n",
        "print('-- [2] Promo\\t\\t:', data[data.label == 2].shape[0], 'data\\n')\n"
      ],
      "metadata": {
        "colab": {
          "base_uri": "https://localhost:8080/"
        },
        "id": "N1IjKK94RPjE",
        "outputId": "86df6f39-30bd-474d-829b-5656b1e52c31"
      },
      "execution_count": 10,
      "outputs": [
        {
          "output_type": "stream",
          "name": "stdout",
          "text": [
            "Total Jumlah SMS: 1143 data\n",
            "\n",
            "terdiri dari (label):\n",
            "-- [0] SMS Normal\t: 569 data\n",
            "-- [1] Fraud / Penipuan\t: 335 data\n",
            "-- [2] Promo\t\t: 239 data\n",
            "\n"
          ]
        }
      ]
    },
    {
      "cell_type": "code",
      "source": [
        "height = data['label'].value_counts()\n",
        "labels = ('SMS Normal', 'SMS Fraud / Penipuan', 'SMS Promo')\n",
        "y_pos = np.arange(len(labels))\n",
        "\n",
        "plt.figure(figsize=(7,4), dpi=80)\n",
        "plt.ylim(0,600)\n",
        "plt.title('Distribusi Kategori SMS', fontweight='bold')\n",
        "plt.xlabel('Kategori', fontweight='bold')\n",
        "plt.ylabel('Jumlah', fontweight='bold')\n",
        "plt.bar(y_pos, height, color=['deepskyblue', 'royalblue', 'skyblue'])\n",
        "plt.xticks(y_pos, labels)\n",
        "plt.show()\n"
      ],
      "metadata": {
        "colab": {
          "base_uri": "https://localhost:8080/",
          "height": 323
        },
        "id": "TuY25K9aRyEk",
        "outputId": "889d794b-8f6e-4718-cdc1-9d103e381600"
      },
      "execution_count": 11,
      "outputs": [
        {
          "output_type": "display_data",
          "data": {
            "text/plain": [
              "<Figure size 560x320 with 1 Axes>"
            ],
            "image/png": "[encoded data removed]"
          },
          "metadata": {
            "needs_background": "light"
          }
        }
      ]
    },
    {
      "cell_type": "markdown",
      "source": [
        "#Text Preprocessing\n",
        "\n",
        "Case Folding"
      ],
      "metadata": {
        "id": "KLyuc1phSf5D"
      }
    },
    {
      "cell_type": "code",
      "source": [
        "import re\n",
        "\n",
        "#buat fungsi untuk melakukan case folding\n",
        "def casefolding(text):\n",
        "  text = text.lower()            # ubah jadi lowercase\n",
        "  text = re.sub(r'https?://\\S+|www\\.\\S+','',text) #menghapus URL\n",
        "  text = re.sub(r'[-+]?[0-9]','',text) #menghapus tanda baca\n",
        "  text = text.strip()\n",
        "  return text\n"
      ],
      "metadata": {
        "id": "N2LOcJhURPzx"
      },
      "execution_count": 12,
      "outputs": []
    },
    {
      "cell_type": "code",
      "source": [
        "raw_tex = data['teks'].iloc[5]\n",
        "case_folding = casefolding(raw_tex)\n",
        "\n",
        "print('Raw text\\t: ', raw_tex)\n",
        "print('Case folding\\t: ', case_folding)\n"
      ],
      "metadata": {
        "colab": {
          "base_uri": "https://localhost:8080/"
        },
        "id": "KFJOjDwZTvil",
        "outputId": "b54c928c-5fcc-4977-e59c-da5742aefb88"
      },
      "execution_count": 15,
      "outputs": [
        {
          "output_type": "stream",
          "name": "stdout",
          "text": [
            "Raw text\t:  5 HARI LAGI ! EKSTRA Pulsa 50rb dg beli paket internet bulanan di MyTelkomsel utk pembelian pertama sjk 25Aug-25Sept. Cek detail promo di tsel.me/mytsel1\n",
            "Case folding\t:  hari lagi ! ekstra pulsa rb dg beli paket internet bulanan di mytelkomsel utk pembelian pertama sjk augsept. cek detail promo di tsel.me/mytsel\n"
          ]
        }
      ]
    },
    {
      "cell_type": "markdown",
      "source": [
        "#word Normalization"
      ],
      "metadata": {
        "id": "LD8G6EhSW9wL"
      }
    },
    {
      "cell_type": "code",
      "source": [
        "!wget https://raw.githubusercontent.com/ksnugroho/klasifikasi-spam-sms/master/data/key_norm.csv\n"
      ],
      "metadata": {
        "colab": {
          "base_uri": "https://localhost:8080/"
        },
        "id": "1G4Gdyu8Ufk0",
        "outputId": "66642400-f89e-4385-801d-20d9a04df49b"
      },
      "execution_count": 16,
      "outputs": [
        {
          "output_type": "stream",
          "name": "stdout",
          "text": [
            "--2022-03-28 07:10:17--  https://raw.githubusercontent.com/ksnugroho/klasifikasi-spam-sms/master/data/key_norm.csv\n",
            "Resolving raw.githubusercontent.com (raw.githubusercontent.com)... 185.199.109.133, 185.199.111.133, 185.199.108.133, ...\n",
            "Connecting to raw.githubusercontent.com (raw.githubusercontent.com)|185.199.109.133|:443... connected.\n",
            "HTTP request sent, awaiting response... 200 OK\n",
            "Length: 80969 (79K) [text/plain]\n",
            "Saving to: ‘key_norm.csv’\n",
            "\n",
            "\rkey_norm.csv          0%[                    ]       0  --.-KB/s               \rkey_norm.csv        100%[===================>]  79.07K  --.-KB/s    in 0.004s  \n",
            "\n",
            "2022-03-28 07:10:17 (17.3 MB/s) - ‘key_norm.csv’ saved [80969/80969]\n",
            "\n"
          ]
        }
      ]
    },
    {
      "cell_type": "code",
      "source": [
        "# Download corpus \n",
        "key_norm = pd.read_csv('key_norm.csv')\n",
        "\n",
        "# Buat fungsi untuk melakukan word normalization\n",
        "def text_normalize(text):\n",
        "  text = ' '.join([key_norm[key_norm['singkat'] == word]['hasil'].values[0] if (key_norm['singkat'] == word).any() else word for word in text.split()])\n",
        "  text = str.lower(text)\n",
        "  return text\n"
      ],
      "metadata": {
        "id": "_SkLGQwEXOAq"
      },
      "execution_count": 19,
      "outputs": []
    },
    {
      "cell_type": "code",
      "source": [
        "raw_tex = data['teks'].iloc[5]\n",
        "case_folding = casefolding(raw_tex)\n",
        "word_normalization = text_normalize(case_folding)\n",
        "\n",
        "print('Raw text\\t: ', raw_tex)\n",
        "print('Case folding\\t: ', case_folding)\n",
        "print('Word Normalization\\t: ', word_normalization)\n"
      ],
      "metadata": {
        "colab": {
          "base_uri": "https://localhost:8080/"
        },
        "id": "ep15HQQPYD31",
        "outputId": "0e929b1e-1cde-436a-91ee-aa463c23a266"
      },
      "execution_count": 20,
      "outputs": [
        {
          "output_type": "stream",
          "name": "stdout",
          "text": [
            "Raw text\t:  5 HARI LAGI ! EKSTRA Pulsa 50rb dg beli paket internet bulanan di MyTelkomsel utk pembelian pertama sjk 25Aug-25Sept. Cek detail promo di tsel.me/mytsel1\n",
            "Case folding\t:  hari lagi ! ekstra pulsa rb dg beli paket internet bulanan di mytelkomsel utk pembelian pertama sjk augsept. cek detail promo di tsel.me/mytsel\n",
            "Word Normalization\t:  hari lagi ! ekstra pulsa rb dengan beli paket internet bulanan di mytelkomsel untuk pembelian pertama sjk augsept. cek detail promo di tsel.me/mytsel\n"
          ]
        }
      ]
    },
    {
      "cell_type": "markdown",
      "source": [
        "# Filtering (stopwords Removal)"
      ],
      "metadata": {
        "id": "LL2JRglXZTXC"
      }
    },
    {
      "cell_type": "code",
      "source": [
        "from nltk.corpus import stopwords\n",
        "\n",
        "stopwords_id = stopwords.words('indonesian')"
      ],
      "metadata": {
        "id": "D7m5EPkXZGhD"
      },
      "execution_count": 23,
      "outputs": []
    },
    {
      "cell_type": "code",
      "source": [
        "len(stopwords_id)"
      ],
      "metadata": {
        "colab": {
          "base_uri": "https://localhost:8080/"
        },
        "id": "RKluM2eEZaUq",
        "outputId": "a6625a25-4ff7-46e8-e910-a4db1480c995"
      },
      "execution_count": 24,
      "outputs": [
        {
          "output_type": "execute_result",
          "data": {
            "text/plain": [
              "758"
            ]
          },
          "metadata": {},
          "execution_count": 24
        }
      ]
    },
    {
      "cell_type": "code",
      "source": [
        "# lihat daftar stopwords indonesia yang disediakan nltk\n",
        "\n",
        "stopwords_id"
      ],
      "metadata": {
        "id": "aDZpxzKFZ3W4"
      },
      "execution_count": null,
      "outputs": []
    },
    {
      "cell_type": "code",
      "source": [
        "# Buat fungsi untuk langkah stopwords removal\n",
        "\n",
        "def remove_stopwords(text):\n",
        "  clean_word = []\n",
        "  all_text = text.split()\n",
        "  for word in all_text:\n",
        "    if word not in stopwords_id:\n",
        "      clean_word.append(word)\n",
        "  return ' '.join(clean_word)\n"
      ],
      "metadata": {
        "id": "bSpRF2JKZ-5S"
      },
      "execution_count": 33,
      "outputs": []
    },
    {
      "cell_type": "code",
      "source": [
        "raw_tex = data['teks'].iloc[5]\n",
        "case_folding = casefolding(raw_tex)\n",
        "word_normalization = text_normalize(case_folding)\n",
        "stopwords_removal = remove_stopwords(word_normalization)\n",
        "\n",
        "print('Raw text\\t: ', raw_tex)\n",
        "print('Case folding\\t: ', case_folding)\n",
        "print('Word normalization\\t: ', word_normalization)\n",
        "print('Stopwords removal\\t: ', stopwords_removal)\n"
      ],
      "metadata": {
        "colab": {
          "base_uri": "https://localhost:8080/"
        },
        "id": "0LXQpof2bKQ1",
        "outputId": "8aba95a3-4cb5-4bda-cb1c-1474fed1c5e6"
      },
      "execution_count": 34,
      "outputs": [
        {
          "output_type": "stream",
          "name": "stdout",
          "text": [
            "Raw text\t:  5 HARI LAGI ! EKSTRA Pulsa 50rb dg beli paket internet bulanan di MyTelkomsel utk pembelian pertama sjk 25Aug-25Sept. Cek detail promo di tsel.me/mytsel1\n",
            "Case folding\t:  hari lagi ! ekstra pulsa rb dg beli paket internet bulanan di mytelkomsel utk pembelian pertama sjk augsept. cek detail promo di tsel.me/mytsel\n",
            "Word normalization\t:  hari lagi ! ekstra pulsa rb dengan beli paket internet bulanan di mytelkomsel untuk pembelian pertama sjk augsept. cek detail promo di tsel.me/mytsel\n",
            "Stopwords removal\t:  ! ekstra pulsa rb beli paket internet bulanan mytelkomsel pembelian sjk augsept. cek detail promo tsel.me/mytsel\n"
          ]
        }
      ]
    },
    {
      "cell_type": "markdown",
      "source": [
        "#Stemming"
      ],
      "metadata": {
        "id": "ckgoc0IDb4gR"
      }
    },
    {
      "cell_type": "code",
      "source": [
        "from Sastrawi.Stemmer.StemmerFactory import StemmerFactory\n",
        "\n",
        "factory = StemmerFactory()\n",
        "stemmer = factory.create_stemmer()\n",
        "\n",
        "# Buat fungsi untuk langkah stemming Bahasa Indonesia\n",
        "def stemming(text):\n",
        "  text = stemmer.stem(text)\n",
        "  return text\n"
      ],
      "metadata": {
        "id": "ZB7RWaJudcc5"
      },
      "execution_count": 36,
      "outputs": []
    },
    {
      "cell_type": "code",
      "source": [
        "raw_tex = data['teks'].iloc[5]\n",
        "case_folding = casefolding(raw_tex)\n",
        "word_normalization = text_normalize(case_folding)\n",
        "stopwords_removal = remove_stopwords(word_normalization)\n",
        "text_stemming = stemming(stopwords_removal)\n",
        "\n",
        "print('Raw text\\t: ', raw_tex)\n",
        "print('Case folding\\t: ', case_folding)\n",
        "print('Word normalization\\t: ', word_normalization)\n",
        "print('Stopwords removal\\t: ', stopwords_removal)\n",
        "print('Stemming\\t: ', text_stemming)"
      ],
      "metadata": {
        "colab": {
          "base_uri": "https://localhost:8080/"
        },
        "id": "tg7XC8WYb4Qk",
        "outputId": "01872d12-3f1a-4ac5-9911-9660dd2c2dad"
      },
      "execution_count": 37,
      "outputs": [
        {
          "output_type": "stream",
          "name": "stdout",
          "text": [
            "Raw text\t:  5 HARI LAGI ! EKSTRA Pulsa 50rb dg beli paket internet bulanan di MyTelkomsel utk pembelian pertama sjk 25Aug-25Sept. Cek detail promo di tsel.me/mytsel1\n",
            "Case folding\t:  hari lagi ! ekstra pulsa rb dg beli paket internet bulanan di mytelkomsel utk pembelian pertama sjk augsept. cek detail promo di tsel.me/mytsel\n",
            "Word normalization\t:  hari lagi ! ekstra pulsa rb dengan beli paket internet bulanan di mytelkomsel untuk pembelian pertama sjk augsept. cek detail promo di tsel.me/mytsel\n",
            "Stopwords removal\t:  ! ekstra pulsa rb beli paket internet bulanan mytelkomsel pembelian sjk augsept. cek detail promo tsel.me/mytsel\n",
            "Stemming\t:  ekstra pulsa rb beli paket internet bulan mytelkomsel beli sjk augsept cek detail promo tsel me mytsel\n"
          ]
        }
      ]
    },
    {
      "cell_type": "markdown",
      "source": [
        "#Text Preprocessing Pipeline"
      ],
      "metadata": {
        "id": "DD_D3Kc_dSDh"
      }
    },
    {
      "cell_type": "code",
      "source": [
        "# Buat fungsi untuk menggabungkan seluruh langkah pada text preprocessing\n",
        "def text_preprocessing_process(text):\n",
        "  text = casefolding(text)\n",
        "  text = text_normalize(text)\n",
        "  text = remove_stopwords(text)\n",
        "  text = stemming(text)\n",
        "  return text\n"
      ],
      "metadata": {
        "id": "o10cB6oJdJnE"
      },
      "execution_count": 43,
      "outputs": []
    },
    {
      "cell_type": "code",
      "source": [
        "%%time\n",
        "data['clean_teks'] = data['teks'].apply(text_preprocessing_process)\n",
        "\n",
        "# Perhatikan waktu komputasi ketika melakukan text preprocessing\n",
        "\n",
        "\n"
      ],
      "metadata": {
        "colab": {
          "base_uri": "https://localhost:8080/"
        },
        "id": "0PHeR3rAd2DL",
        "outputId": "53a1bd18-f745-4ed3-cd2a-b12fa8342215"
      },
      "execution_count": 44,
      "outputs": [
        {
          "output_type": "stream",
          "name": "stdout",
          "text": [
            "CPU times: user 5min 27s, sys: 947 ms, total: 5min 28s\n",
            "Wall time: 5min 37s\n"
          ]
        }
      ]
    },
    {
      "cell_type": "code",
      "source": [
        "data.head()"
      ],
      "metadata": {
        "colab": {
          "base_uri": "https://localhost:8080/",
          "height": 206
        },
        "id": "B4tsMU2zgDb7",
        "outputId": "4f119c2d-71dc-45fe-e7c9-51a393375d98"
      },
      "execution_count": 45,
      "outputs": [
        {
          "output_type": "execute_result",
          "data": {
            "text/plain": [
              "                                                teks  label  \\\n",
              "0  [PROMO] Beli paket Flash mulai 1GB di MY TELKO...      2   \n",
              "1  2.5 GB/30 hari hanya Rp 35 Ribu Spesial buat A...      2   \n",
              "2  2016-07-08 11:47:11.Plg Yth, sisa kuota Flash ...      2   \n",
              "3  2016-08-07 11:29:47.Plg Yth, sisa kuota Flash ...      2   \n",
              "4  4.5GB/30 hari hanya Rp 55 Ribu Spesial buat an...      2   \n",
              "\n",
              "                                          clean_teks  \n",
              "0  promo beli paket flash gb my telkomsel app ext...  \n",
              "1  gb rupiah ribu spesial pilih aktif promo sd no...  \n",
              "2  plg yth sisa kuota flash kb download mytelkoms...  \n",
              "3  plg yth sisa kuota flash kb download mytelkoms...  \n",
              "4        gb rupiah ribu spesial pilih aktif buru skb  "
            ],
            "text/html": [
              "\n",
              "  <div id=\"df-c5376a8e-07a6-4983-8ddf-3fc353f30cdb\">\n",
              "    <div class=\"colab-df-container\">\n",
              "      <div>\n",
              "<style scoped>\n",
              "    .dataframe tbody tr th:only-of-type {\n",
              "        vertical-align: middle;\n",
              "    }\n",
              "\n",
              "    .dataframe tbody tr th {\n",
              "        vertical-align: top;\n",
              "    }\n",
              "\n",
              "    .dataframe thead th {\n",
              "        text-align: right;\n",
              "    }\n",
              "</style>\n",
              "<table border=\"1\" class=\"dataframe\">\n",
              "  <thead>\n",
              "    <tr style=\"text-align: right;\">\n",
              "      <th></th>\n",
              "      <th>teks</th>\n",
              "      <th>label</th>\n",
              "      <th>clean_teks</th>\n",
              "    </tr>\n",
              "  </thead>\n",
              "  <tbody>\n",
              "    <tr>\n",
              "      <th>0</th>\n",
              "      <td>[PROMO] Beli paket Flash mulai 1GB di MY TELKO...</td>\n",
              "      <td>2</td>\n",
              "      <td>promo beli paket flash gb my telkomsel app ext...</td>\n",
              "    </tr>\n",
              "    <tr>\n",
              "      <th>1</th>\n",
              "      <td>2.5 GB/30 hari hanya Rp 35 Ribu Spesial buat A...</td>\n",
              "      <td>2</td>\n",
              "      <td>gb rupiah ribu spesial pilih aktif promo sd no...</td>\n",
              "    </tr>\n",
              "    <tr>\n",
              "      <th>2</th>\n",
              "      <td>2016-07-08 11:47:11.Plg Yth, sisa kuota Flash ...</td>\n",
              "      <td>2</td>\n",
              "      <td>plg yth sisa kuota flash kb download mytelkoms...</td>\n",
              "    </tr>\n",
              "    <tr>\n",
              "      <th>3</th>\n",
              "      <td>2016-08-07 11:29:47.Plg Yth, sisa kuota Flash ...</td>\n",
              "      <td>2</td>\n",
              "      <td>plg yth sisa kuota flash kb download mytelkoms...</td>\n",
              "    </tr>\n",
              "    <tr>\n",
              "      <th>4</th>\n",
              "      <td>4.5GB/30 hari hanya Rp 55 Ribu Spesial buat an...</td>\n",
              "      <td>2</td>\n",
              "      <td>gb rupiah ribu spesial pilih aktif buru skb</td>\n",
              "    </tr>\n",
              "  </tbody>\n",
              "</table>\n",
              "</div>\n",
              "      <button class=\"colab-df-convert\" onclick=\"convertToInteractive('df-c5376a8e-07a6-4983-8ddf-3fc353f30cdb')\"\n",
              "              title=\"Convert this dataframe to an interactive table.\"\n",
              "              style=\"display:none;\">\n",
              "        \n",
              "  <svg xmlns=\"http://www.w3.org/2000/svg\" height=\"24px\"viewBox=\"0 0 24 24\"\n",
              "       width=\"24px\">\n",
              "    <path d=\"M0 0h24v24H0V0z\" fill=\"none\"/>\n",
              "    <path d=\"M18.56 5.44l.94 2.06.94-2.06 2.06-.94-2.06-.94-.94-2.06-.94 2.06-2.06.94zm-11 1L8.5 8.5l.94-2.06 2.06-.94-2.06-.94L8.5 2.5l-.94 2.06-2.06.94zm10 10l.94 2.06.94-2.06 2.06-.94-2.06-.94-.94-2.06-.94 2.06-2.06.94z\"/><path d=\"M17.41 7.96l-1.37-1.37c-.4-.4-.92-.59-1.43-.59-.52 0-1.04.2-1.43.59L10.3 9.45l-7.72 7.72c-.78.78-.78 2.05 0 2.83L4 21.41c.39.39.9.59 1.41.59.51 0 1.02-.2 1.41-.59l7.78-7.78 2.81-2.81c.8-.78.8-2.07 0-2.86zM5.41 20L4 18.59l7.72-7.72 1.47 1.35L5.41 20z\"/>\n",
              "  </svg>\n",
              "      </button>\n",
              "      \n",
              "  <style>\n",
              "    .colab-df-container {\n",
              "      display:flex;\n",
              "      flex-wrap:wrap;\n",
              "      gap: 12px;\n",
              "    }\n",
              "\n",
              "    .colab-df-convert {\n",
              "      background-color: #E8F0FE;\n",
              "      border: none;\n",
              "      border-radius: 50%;\n",
              "      cursor: pointer;\n",
              "      display: none;\n",
              "      fill: #1967D2;\n",
              "      height: 32px;\n",
              "      padding: 0 0 0 0;\n",
              "      width: 32px;\n",
              "    }\n",
              "\n",
              "    .colab-df-convert:hover {\n",
              "      background-color: #E2EBFA;\n",
              "      box-shadow: 0px 1px 2px rgba(60, 64, 67, 0.3), 0px 1px 3px 1px rgba(60, 64, 67, 0.15);\n",
              "      fill: #174EA6;\n",
              "    }\n",
              "\n",
              "    [theme=dark] .colab-df-convert {\n",
              "      background-color: #3B4455;\n",
              "      fill: #D2E3FC;\n",
              "    }\n",
              "\n",
              "    [theme=dark] .colab-df-convert:hover {\n",
              "      background-color: #434B5C;\n",
              "      box-shadow: 0px 1px 3px 1px rgba(0, 0, 0, 0.15);\n",
              "      filter: drop-shadow(0px 1px 2px rgba(0, 0, 0, 0.3));\n",
              "      fill: #FFFFFF;\n",
              "    }\n",
              "  </style>\n",
              "\n",
              "      <script>\n",
              "        const buttonEl =\n",
              "          document.querySelector('#df-c5376a8e-07a6-4983-8ddf-3fc353f30cdb button.colab-df-convert');\n",
              "        buttonEl.style.display =\n",
              "          google.colab.kernel.accessAllowed ? 'block' : 'none';\n",
              "\n",
              "        async function convertToInteractive(key) {\n",
              "          const element = document.querySelector('#df-c5376a8e-07a6-4983-8ddf-3fc353f30cdb');\n",
              "          const dataTable =\n",
              "            await google.colab.kernel.invokeFunction('convertToInteractive',\n",
              "                                                     [key], {});\n",
              "          if (!dataTable) return;\n",
              "\n",
              "          const docLinkHtml = 'Like what you see? Visit the ' +\n",
              "            '<a target=\"_blank\" href=https://colab.research.google.com/notebooks/data_table.ipynb>data table notebook</a>'\n",
              "            + ' to learn more about interactive tables.';\n",
              "          element.innerHTML = '';\n",
              "          dataTable['output_type'] = 'display_data';\n",
              "          await google.colab.output.renderOutput(dataTable, element);\n",
              "          const docLink = document.createElement('div');\n",
              "          docLink.innerHTML = docLinkHtml;\n",
              "          element.appendChild(docLink);\n",
              "        }\n",
              "      </script>\n",
              "    </div>\n",
              "  </div>\n",
              "  "
            ]
          },
          "metadata": {},
          "execution_count": 45
        }
      ]
    },
    {
      "cell_type": "code",
      "source": [
        "#simpan hasil data yang telah melalui prepocessing\n",
        "data.to_csv('clean_data.csv')"
      ],
      "metadata": {
        "id": "5X-mkNUCgGlh"
      },
      "execution_count": 46,
      "outputs": []
    },
    {
      "cell_type": "markdown",
      "source": [
        "#Feature Engineering"
      ],
      "metadata": {
        "id": "F7UNr9xnhj2U"
      }
    },
    {
      "cell_type": "code",
      "source": [
        "#pisahkan kolom feature dan target\n",
        "x = data['clean_teks']\n",
        "y = data['label']"
      ],
      "metadata": {
        "id": "qQaaEdWAhnUp"
      },
      "execution_count": 48,
      "outputs": []
    },
    {
      "cell_type": "code",
      "source": [
        "x"
      ],
      "metadata": {
        "colab": {
          "base_uri": "https://localhost:8080/"
        },
        "id": "V4BHtrCAoBLc",
        "outputId": "a6fda091-01c5-4992-db06-f02688eab17a"
      },
      "execution_count": 49,
      "outputs": [
        {
          "output_type": "execute_result",
          "data": {
            "text/plain": [
              "0       promo beli paket flash gb my telkomsel app ext...\n",
              "1       gb rupiah ribu spesial pilih aktif promo sd no...\n",
              "2       plg yth sisa kuota flash kb download mytelkoms...\n",
              "3       plg yth sisa kuota flash kb download mytelkoms...\n",
              "4             gb rupiah ribu spesial pilih aktif buru skb\n",
              "                              ...                        \n",
              "1138                      yooo sama oke umumin grup kelas\n",
              "1139                     nulis kerudung kirain warna jins\n",
              "1140                                        mbak kirim ya\n",
              "1141       nama beaok bwrangkat pagi mau cas atay tranfer\n",
              "1142                                       nomor bri nama\n",
              "Name: clean_teks, Length: 1143, dtype: object"
            ]
          },
          "metadata": {},
          "execution_count": 49
        }
      ]
    },
    {
      "cell_type": "code",
      "source": [
        "y"
      ],
      "metadata": {
        "colab": {
          "base_uri": "https://localhost:8080/"
        },
        "id": "j6u63-ttoMgh",
        "outputId": "782f41e6-8080-495f-9a54-991296994ef1"
      },
      "execution_count": 50,
      "outputs": [
        {
          "output_type": "execute_result",
          "data": {
            "text/plain": [
              "0       2\n",
              "1       2\n",
              "2       2\n",
              "3       2\n",
              "4       2\n",
              "       ..\n",
              "1138    0\n",
              "1139    0\n",
              "1140    0\n",
              "1141    0\n",
              "1142    0\n",
              "Name: label, Length: 1143, dtype: int64"
            ]
          },
          "metadata": {},
          "execution_count": 50
        }
      ]
    },
    {
      "cell_type": "markdown",
      "source": [
        "#feature Extraction (bag of words & N-gram)\n",
        "\n",
        "proses mengubah teks menjadi bentuk vektor"
      ],
      "metadata": {
        "id": "sX01ZagpoTL4"
      }
    },
    {
      "cell_type": "code",
      "source": [
        "'''\n",
        "Convert a collection of text documents to a matrix of token counts.\n",
        "https://scikit-learn.org/stable/modules/generated/sklearn.feature_extraction.text.CountVectorizer.html\n",
        "'''\n",
        "\n",
        "from sklearn.feature_extraction.text import CountVectorizer\n",
        "\n",
        "# Bag of Words menggunakan unigram\n",
        "vec = CountVectorizer(ngram_range=(1,1))\n",
        "vec.fit(x)\n"
      ],
      "metadata": {
        "colab": {
          "base_uri": "https://localhost:8080/"
        },
        "id": "iBhvfTQVoN74",
        "outputId": "4b284062-ac8e-4d39-b694-aae6cd40148d"
      },
      "execution_count": 53,
      "outputs": [
        {
          "output_type": "execute_result",
          "data": {
            "text/plain": [
              "CountVectorizer()"
            ]
          },
          "metadata": {},
          "execution_count": 53
        }
      ]
    },
    {
      "cell_type": "code",
      "source": [
        "# jumlah token yang dihasilkan darri proses ini\n",
        "len(vec.get_feature_names_out())"
      ],
      "metadata": {
        "colab": {
          "base_uri": "https://localhost:8080/"
        },
        "id": "5Dvuc5O_pMir",
        "outputId": "6f83315c-f852-4868-cf08-c98156696de0"
      },
      "execution_count": 54,
      "outputs": [
        {
          "output_type": "execute_result",
          "data": {
            "text/plain": [
              "3126"
            ]
          },
          "metadata": {},
          "execution_count": 54
        }
      ]
    },
    {
      "cell_type": "code",
      "source": [
        "vec.get_feature_names_out()"
      ],
      "metadata": {
        "colab": {
          "base_uri": "https://localhost:8080/"
        },
        "id": "wWVsjQN_szuo",
        "outputId": "1661f81f-e82a-4c7c-cb40-3571026e5da4"
      },
      "execution_count": 56,
      "outputs": [
        {
          "output_type": "execute_result",
          "data": {
            "text/plain": [
              "array(['aa', 'aamiiiin', 'aamiin', ..., 'zarkasi', 'zona', 'ztkm'],\n",
              "      dtype=object)"
            ]
          },
          "metadata": {},
          "execution_count": 56
        }
      ]
    },
    {
      "cell_type": "code",
      "source": [
        "x_unigram = vec.transform(x).toarray()\n",
        "\n",
        "x_unigram"
      ],
      "metadata": {
        "colab": {
          "base_uri": "https://localhost:8080/"
        },
        "id": "KVQSXZkvrT5h",
        "outputId": "7ff000fb-232a-4a4c-949d-d0a789a35e9d"
      },
      "execution_count": 55,
      "outputs": [
        {
          "output_type": "execute_result",
          "data": {
            "text/plain": [
              "array([[0, 0, 0, ..., 0, 0, 0],\n",
              "       [0, 0, 0, ..., 0, 0, 0],\n",
              "       [0, 0, 0, ..., 0, 0, 0],\n",
              "       ...,\n",
              "       [0, 0, 0, ..., 0, 0, 0],\n",
              "       [0, 0, 0, ..., 0, 0, 0],\n",
              "       [0, 0, 0, ..., 0, 0, 0]])"
            ]
          },
          "metadata": {},
          "execution_count": 55
        }
      ]
    },
    {
      "cell_type": "code",
      "source": [
        "data_unigram = pd.DataFrame(x_unigram, columns=vec.get_feature_names_out())\n",
        "\n",
        "data_unigram\n"
      ],
      "metadata": {
        "colab": {
          "base_uri": "https://localhost:8080/",
          "height": 467
        },
        "id": "AIvg3K3XuYBH",
        "outputId": "0f2bbb03-401d-430f-ce10-cc3e7296be3b"
      },
      "execution_count": 61,
      "outputs": [
        {
          "output_type": "execute_result",
          "data": {
            "text/plain": [
              "      aa  aamiiiin  aamiin  ab  abadi  abai  abbee  abdul  abdullah  abis  \\\n",
              "0      0         0       0   0      0     0      0      0         0     0   \n",
              "1      0         0       0   0      0     0      0      0         0     0   \n",
              "2      0         0       0   0      0     0      0      0         0     0   \n",
              "3      0         0       0   0      0     0      0      0         0     0   \n",
              "4      0         0       0   0      0     0      0      0         0     0   \n",
              "...   ..       ...     ...  ..    ...   ...    ...    ...       ...   ...   \n",
              "1138   0         0       0   0      0     0      0      0         0     0   \n",
              "1139   0         0       0   0      0     0      0      0         0     0   \n",
              "1140   0         0       0   0      0     0      0      0         0     0   \n",
              "1141   0         0       0   0      0     0      0      0         0     0   \n",
              "1142   0         0       0   0      0     0      0      0         0     0   \n",
              "\n",
              "      ...  yu  yudisium  yuk  yuks  yuni  yunit  zalora  zarkasi  zona  ztkm  \n",
              "0     ...   0         0    0     0     0      0       0        0     0     0  \n",
              "1     ...   0         0    0     0     0      0       0        0     0     0  \n",
              "2     ...   0         0    0     0     0      0       0        0     0     0  \n",
              "3     ...   0         0    0     0     0      0       0        0     0     0  \n",
              "4     ...   0         0    0     0     0      0       0        0     0     0  \n",
              "...   ...  ..       ...  ...   ...   ...    ...     ...      ...   ...   ...  \n",
              "1138  ...   0         0    0     0     0      0       0        0     0     0  \n",
              "1139  ...   0         0    0     0     0      0       0        0     0     0  \n",
              "1140  ...   0         0    0     0     0      0       0        0     0     0  \n",
              "1141  ...   0         0    0     0     0      0       0        0     0     0  \n",
              "1142  ...   0         0    0     0     0      0       0        0     0     0  \n",
              "\n",
              "[1143 rows x 3126 columns]"
            ],
            "text/html": [
              "\n",
              "  <div id=\"df-ceb54a07-1624-4fec-a16d-ab404f89a34b\">\n",
              "    <div class=\"colab-df-container\">\n",
              "      <div>\n",
              "<style scoped>\n",
              "    .dataframe tbody tr th:only-of-type {\n",
              "        vertical-align: middle;\n",
              "    }\n",
              "\n",
              "    .dataframe tbody tr th {\n",
              "        vertical-align: top;\n",
              "    }\n",
              "\n",
              "    .dataframe thead th {\n",
              "        text-align: right;\n",
              "    }\n",
              "</style>\n",
              "<table border=\"1\" class=\"dataframe\">\n",
              "  <thead>\n",
              "    <tr style=\"text-align: right;\">\n",
              "      <th></th>\n",
              "      <th>aa</th>\n",
              "      <th>aamiiiin</th>\n",
              "      <th>aamiin</th>\n",
              "      <th>ab</th>\n",
              "      <th>abadi</th>\n",
              "      <th>abai</th>\n",
              "      <th>abbee</th>\n",
              "      <th>abdul</th>\n",
              "      <th>abdullah</th>\n",
              "      <th>abis</th>\n",
              "      <th>...</th>\n",
              "      <th>yu</th>\n",
              "      <th>yudisium</th>\n",
              "      <th>yuk</th>\n",
              "      <th>yuks</th>\n",
              "      <th>yuni</th>\n",
              "      <th>yunit</th>\n",
              "      <th>zalora</th>\n",
              "      <th>zarkasi</th>\n",
              "      <th>zona</th>\n",
              "      <th>ztkm</th>\n",
              "    </tr>\n",
              "  </thead>\n",
              "  <tbody>\n",
              "    <tr>\n",
              "      <th>0</th>\n",
              "      <td>0</td>\n",
              "      <td>0</td>\n",
              "      <td>0</td>\n",
              "      <td>0</td>\n",
              "      <td>0</td>\n",
              "      <td>0</td>\n",
              "      <td>0</td>\n",
              "      <td>0</td>\n",
              "      <td>0</td>\n",
              "      <td>0</td>\n",
              "      <td>...</td>\n",
              "      <td>0</td>\n",
              "      <td>0</td>\n",
              "      <td>0</td>\n",
              "      <td>0</td>\n",
              "      <td>0</td>\n",
              "      <td>0</td>\n",
              "      <td>0</td>\n",
              "      <td>0</td>\n",
              "      <td>0</td>\n",
              "      <td>0</td>\n",
              "    </tr>\n",
              "    <tr>\n",
              "      <th>1</th>\n",
              "      <td>0</td>\n",
              "      <td>0</td>\n",
              "      <td>0</td>\n",
              "      <td>0</td>\n",
              "      <td>0</td>\n",
              "      <td>0</td>\n",
              "      <td>0</td>\n",
              "      <td>0</td>\n",
              "      <td>0</td>\n",
              "      <td>0</td>\n",
              "      <td>...</td>\n",
              "      <td>0</td>\n",
              "      <td>0</td>\n",
              "      <td>0</td>\n",
              "      <td>0</td>\n",
              "      <td>0</td>\n",
              "      <td>0</td>\n",
              "      <td>0</td>\n",
              "      <td>0</td>\n",
              "      <td>0</td>\n",
              "      <td>0</td>\n",
              "    </tr>\n",
              "    <tr>\n",
              "      <th>2</th>\n",
              "      <td>0</td>\n",
              "      <td>0</td>\n",
              "      <td>0</td>\n",
              "      <td>0</td>\n",
              "      <td>0</td>\n",
              "      <td>0</td>\n",
              "      <td>0</td>\n",
              "      <td>0</td>\n",
              "      <td>0</td>\n",
              "      <td>0</td>\n",
              "      <td>...</td>\n",
              "      <td>0</td>\n",
              "      <td>0</td>\n",
              "      <td>0</td>\n",
              "      <td>0</td>\n",
              "      <td>0</td>\n",
              "      <td>0</td>\n",
              "      <td>0</td>\n",
              "      <td>0</td>\n",
              "      <td>0</td>\n",
              "      <td>0</td>\n",
              "    </tr>\n",
              "    <tr>\n",
              "      <th>3</th>\n",
              "      <td>0</td>\n",
              "      <td>0</td>\n",
              "      <td>0</td>\n",
              "      <td>0</td>\n",
              "      <td>0</td>\n",
              "      <td>0</td>\n",
              "      <td>0</td>\n",
              "      <td>0</td>\n",
              "      <td>0</td>\n",
              "      <td>0</td>\n",
              "      <td>...</td>\n",
              "      <td>0</td>\n",
              "      <td>0</td>\n",
              "      <td>0</td>\n",
              "      <td>0</td>\n",
              "      <td>0</td>\n",
              "      <td>0</td>\n",
              "      <td>0</td>\n",
              "      <td>0</td>\n",
              "      <td>0</td>\n",
              "      <td>0</td>\n",
              "    </tr>\n",
              "    <tr>\n",
              "      <th>4</th>\n",
              "      <td>0</td>\n",
              "      <td>0</td>\n",
              "      <td>0</td>\n",
              "      <td>0</td>\n",
              "      <td>0</td>\n",
              "      <td>0</td>\n",
              "      <td>0</td>\n",
              "      <td>0</td>\n",
              "      <td>0</td>\n",
              "      <td>0</td>\n",
              "      <td>...</td>\n",
              "      <td>0</td>\n",
              "      <td>0</td>\n",
              "      <td>0</td>\n",
              "      <td>0</td>\n",
              "      <td>0</td>\n",
              "      <td>0</td>\n",
              "      <td>0</td>\n",
              "      <td>0</td>\n",
              "      <td>0</td>\n",
              "      <td>0</td>\n",
              "    </tr>\n",
              "    <tr>\n",
              "      <th>...</th>\n",
              "      <td>...</td>\n",
              "      <td>...</td>\n",
              "      <td>...</td>\n",
              "      <td>...</td>\n",
              "      <td>...</td>\n",
              "      <td>...</td>\n",
              "      <td>...</td>\n",
              "      <td>...</td>\n",
              "      <td>...</td>\n",
              "      <td>...</td>\n",
              "      <td>...</td>\n",
              "      <td>...</td>\n",
              "      <td>...</td>\n",
              "      <td>...</td>\n",
              "      <td>...</td>\n",
              "      <td>...</td>\n",
              "      <td>...</td>\n",
              "      <td>...</td>\n",
              "      <td>...</td>\n",
              "      <td>...</td>\n",
              "      <td>...</td>\n",
              "    </tr>\n",
              "    <tr>\n",
              "      <th>1138</th>\n",
              "      <td>0</td>\n",
              "      <td>0</td>\n",
              "      <td>0</td>\n",
              "      <td>0</td>\n",
              "      <td>0</td>\n",
              "      <td>0</td>\n",
              "      <td>0</td>\n",
              "      <td>0</td>\n",
              "      <td>0</td>\n",
              "      <td>0</td>\n",
              "      <td>...</td>\n",
              "      <td>0</td>\n",
              "      <td>0</td>\n",
              "      <td>0</td>\n",
              "      <td>0</td>\n",
              "      <td>0</td>\n",
              "      <td>0</td>\n",
              "      <td>0</td>\n",
              "      <td>0</td>\n",
              "      <td>0</td>\n",
              "      <td>0</td>\n",
              "    </tr>\n",
              "    <tr>\n",
              "      <th>1139</th>\n",
              "      <td>0</td>\n",
              "      <td>0</td>\n",
              "      <td>0</td>\n",
              "      <td>0</td>\n",
              "      <td>0</td>\n",
              "      <td>0</td>\n",
              "      <td>0</td>\n",
              "      <td>0</td>\n",
              "      <td>0</td>\n",
              "      <td>0</td>\n",
              "      <td>...</td>\n",
              "      <td>0</td>\n",
              "      <td>0</td>\n",
              "      <td>0</td>\n",
              "      <td>0</td>\n",
              "      <td>0</td>\n",
              "      <td>0</td>\n",
              "      <td>0</td>\n",
              "      <td>0</td>\n",
              "      <td>0</td>\n",
              "      <td>0</td>\n",
              "    </tr>\n",
              "    <tr>\n",
              "      <th>1140</th>\n",
              "      <td>0</td>\n",
              "      <td>0</td>\n",
              "      <td>0</td>\n",
              "      <td>0</td>\n",
              "      <td>0</td>\n",
              "      <td>0</td>\n",
              "      <td>0</td>\n",
              "      <td>0</td>\n",
              "      <td>0</td>\n",
              "      <td>0</td>\n",
              "      <td>...</td>\n",
              "      <td>0</td>\n",
              "      <td>0</td>\n",
              "      <td>0</td>\n",
              "      <td>0</td>\n",
              "      <td>0</td>\n",
              "      <td>0</td>\n",
              "      <td>0</td>\n",
              "      <td>0</td>\n",
              "      <td>0</td>\n",
              "      <td>0</td>\n",
              "    </tr>\n",
              "    <tr>\n",
              "      <th>1141</th>\n",
              "      <td>0</td>\n",
              "      <td>0</td>\n",
              "      <td>0</td>\n",
              "      <td>0</td>\n",
              "      <td>0</td>\n",
              "      <td>0</td>\n",
              "      <td>0</td>\n",
              "      <td>0</td>\n",
              "      <td>0</td>\n",
              "      <td>0</td>\n",
              "      <td>...</td>\n",
              "      <td>0</td>\n",
              "      <td>0</td>\n",
              "      <td>0</td>\n",
              "      <td>0</td>\n",
              "      <td>0</td>\n",
              "      <td>0</td>\n",
              "      <td>0</td>\n",
              "      <td>0</td>\n",
              "      <td>0</td>\n",
              "      <td>0</td>\n",
              "    </tr>\n",
              "    <tr>\n",
              "      <th>1142</th>\n",
              "      <td>0</td>\n",
              "      <td>0</td>\n",
              "      <td>0</td>\n",
              "      <td>0</td>\n",
              "      <td>0</td>\n",
              "      <td>0</td>\n",
              "      <td>0</td>\n",
              "      <td>0</td>\n",
              "      <td>0</td>\n",
              "      <td>0</td>\n",
              "      <td>...</td>\n",
              "      <td>0</td>\n",
              "      <td>0</td>\n",
              "      <td>0</td>\n",
              "      <td>0</td>\n",
              "      <td>0</td>\n",
              "      <td>0</td>\n",
              "      <td>0</td>\n",
              "      <td>0</td>\n",
              "      <td>0</td>\n",
              "      <td>0</td>\n",
              "    </tr>\n",
              "  </tbody>\n",
              "</table>\n",
              "<p>1143 rows × 3126 columns</p>\n",
              "</div>\n",
              "      <button class=\"colab-df-convert\" onclick=\"convertToInteractive('df-ceb54a07-1624-4fec-a16d-ab404f89a34b')\"\n",
              "              title=\"Convert this dataframe to an interactive table.\"\n",
              "              style=\"display:none;\">\n",
              "        \n",
              "  <svg xmlns=\"http://www.w3.org/2000/svg\" height=\"24px\"viewBox=\"0 0 24 24\"\n",
              "       width=\"24px\">\n",
              "    <path d=\"M0 0h24v24H0V0z\" fill=\"none\"/>\n",
              "    <path d=\"M18.56 5.44l.94 2.06.94-2.06 2.06-.94-2.06-.94-.94-2.06-.94 2.06-2.06.94zm-11 1L8.5 8.5l.94-2.06 2.06-.94-2.06-.94L8.5 2.5l-.94 2.06-2.06.94zm10 10l.94 2.06.94-2.06 2.06-.94-2.06-.94-.94-2.06-.94 2.06-2.06.94z\"/><path d=\"M17.41 7.96l-1.37-1.37c-.4-.4-.92-.59-1.43-.59-.52 0-1.04.2-1.43.59L10.3 9.45l-7.72 7.72c-.78.78-.78 2.05 0 2.83L4 21.41c.39.39.9.59 1.41.59.51 0 1.02-.2 1.41-.59l7.78-7.78 2.81-2.81c.8-.78.8-2.07 0-2.86zM5.41 20L4 18.59l7.72-7.72 1.47 1.35L5.41 20z\"/>\n",
              "  </svg>\n",
              "      </button>\n",
              "      \n",
              "  <style>\n",
              "    .colab-df-container {\n",
              "      display:flex;\n",
              "      flex-wrap:wrap;\n",
              "      gap: 12px;\n",
              "    }\n",
              "\n",
              "    .colab-df-convert {\n",
              "      background-color: #E8F0FE;\n",
              "      border: none;\n",
              "      border-radius: 50%;\n",
              "      cursor: pointer;\n",
              "      display: none;\n",
              "      fill: #1967D2;\n",
              "      height: 32px;\n",
              "      padding: 0 0 0 0;\n",
              "      width: 32px;\n",
              "    }\n",
              "\n",
              "    .colab-df-convert:hover {\n",
              "      background-color: #E2EBFA;\n",
              "      box-shadow: 0px 1px 2px rgba(60, 64, 67, 0.3), 0px 1px 3px 1px rgba(60, 64, 67, 0.15);\n",
              "      fill: #174EA6;\n",
              "    }\n",
              "\n",
              "    [theme=dark] .colab-df-convert {\n",
              "      background-color: #3B4455;\n",
              "      fill: #D2E3FC;\n",
              "    }\n",
              "\n",
              "    [theme=dark] .colab-df-convert:hover {\n",
              "      background-color: #434B5C;\n",
              "      box-shadow: 0px 1px 3px 1px rgba(0, 0, 0, 0.15);\n",
              "      filter: drop-shadow(0px 1px 2px rgba(0, 0, 0, 0.3));\n",
              "      fill: #FFFFFF;\n",
              "    }\n",
              "  </style>\n",
              "\n",
              "      <script>\n",
              "        const buttonEl =\n",
              "          document.querySelector('#df-ceb54a07-1624-4fec-a16d-ab404f89a34b button.colab-df-convert');\n",
              "        buttonEl.style.display =\n",
              "          google.colab.kernel.accessAllowed ? 'block' : 'none';\n",
              "\n",
              "        async function convertToInteractive(key) {\n",
              "          const element = document.querySelector('#df-ceb54a07-1624-4fec-a16d-ab404f89a34b');\n",
              "          const dataTable =\n",
              "            await google.colab.kernel.invokeFunction('convertToInteractive',\n",
              "                                                     [key], {});\n",
              "          if (!dataTable) return;\n",
              "\n",
              "          const docLinkHtml = 'Like what you see? Visit the ' +\n",
              "            '<a target=\"_blank\" href=https://colab.research.google.com/notebooks/data_table.ipynb>data table notebook</a>'\n",
              "            + ' to learn more about interactive tables.';\n",
              "          element.innerHTML = '';\n",
              "          dataTable['output_type'] = 'display_data';\n",
              "          await google.colab.output.renderOutput(dataTable, element);\n",
              "          const docLink = document.createElement('div');\n",
              "          docLink.innerHTML = docLinkHtml;\n",
              "          element.appendChild(docLink);\n",
              "        }\n",
              "      </script>\n",
              "    </div>\n",
              "  </div>\n",
              "  "
            ]
          },
          "metadata": {},
          "execution_count": 61
        }
      ]
    },
    {
      "cell_type": "code",
      "source": [
        "with open('hasil_bow.pickle', 'wb')as output :\n",
        "  pickle.dump(x_unigram, output)"
      ],
      "metadata": {
        "id": "1HyeAdwoumLX"
      },
      "execution_count": 60,
      "outputs": []
    }
  ]
}