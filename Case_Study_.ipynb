{
  "nbformat": 4,
  "nbformat_minor": 0,
  "metadata": {
    "colab": {
      "name": "Case Study .ipynb",
      "provenance": [],
      "authorship_tag": "ABX9TyO7L0SxMlVcnoGoin07n+nr",
      "include_colab_link": true
    },
    "kernelspec": {
      "name": "python3",
      "display_name": "Python 3"
    },
    "language_info": {
      "name": "python"
    }
  },
  "cells": [
    {
      "cell_type": "markdown",
      "metadata": {
        "id": "view-in-github",
        "colab_type": "text"
      },
      "source": [
        "<a href=\"https://colab.research.google.com/github/FairuzFernanda30/Latihan/blob/main/Case_Study_.ipynb\" target=\"_parent\"><img src=\"https://colab.research.google.com/assets/colab-badge.svg\" alt=\"Open In Colab\"/></a>"
      ]
    },
    {
      "cell_type": "markdown",
      "source": [
        "# Case Study : SMS Spam Classfication\n",
        "\n",
        "Langkah - Langkah Diperlukan\n",
        "1. Akuisisi data\n",
        "2. Data preprocessing\n",
        "   1. Case Folding\n",
        "   2. Word Normalization\n",
        "   3. Stopword removal\n",
        "   4. steming\n",
        "3. Feature Engineering\n",
        " 1. bag of word\n",
        " 2. TF-IDF\n",
        " 3. Feature selection - chi square\n",
        "4. Modeliing # Qoming soon\n",
        "5. Evaluasi # Qoming soon\n",
        "6. Deployment # Qoming soon"
      ],
      "metadata": {
        "id": "QGUxTjYxMBYd"
      }
    },
    {
      "cell_type": "markdown",
      "source": [
        "#SETUP"
      ],
      "metadata": {
        "id": "uLI4VWpNMwRM"
      }
    },
    {
      "cell_type": "code",
      "execution_count": 1,
      "metadata": {
        "id": "dCaGafzFMAAq"
      },
      "outputs": [],
      "source": [
        "import numpy as np\n",
        "import pandas as pd\n",
        "import matplotlib.pyplot as plt\n",
        "\n",
        "%matplotlib inline"
      ]
    },
    {
      "cell_type": "code",
      "source": [
        "!pip -q install sastrawi"
      ],
      "metadata": {
        "colab": {
          "base_uri": "https://localhost:8080/"
        },
        "id": "wj8iD5qUNP-D",
        "outputId": "0176a1de-0696-4f30-b09f-7c982c386fb4"
      },
      "execution_count": 2,
      "outputs": [
        {
          "output_type": "stream",
          "name": "stdout",
          "text": [
            "\u001b[?25l\r\u001b[K     |█▋                              | 10 kB 26.7 MB/s eta 0:00:01\r\u001b[K     |███▏                            | 20 kB 32.9 MB/s eta 0:00:01\r\u001b[K     |████▊                           | 30 kB 35.1 MB/s eta 0:00:01\r\u001b[K     |██████▎                         | 40 kB 22.7 MB/s eta 0:00:01\r\u001b[K     |███████▉                        | 51 kB 15.3 MB/s eta 0:00:01\r\u001b[K     |█████████▍                      | 61 kB 17.6 MB/s eta 0:00:01\r\u001b[K     |███████████                     | 71 kB 15.9 MB/s eta 0:00:01\r\u001b[K     |████████████▌                   | 81 kB 14.5 MB/s eta 0:00:01\r\u001b[K     |██████████████                  | 92 kB 15.7 MB/s eta 0:00:01\r\u001b[K     |███████████████▋                | 102 kB 14.8 MB/s eta 0:00:01\r\u001b[K     |█████████████████▏              | 112 kB 14.8 MB/s eta 0:00:01\r\u001b[K     |██████████████████▊             | 122 kB 14.8 MB/s eta 0:00:01\r\u001b[K     |████████████████████▎           | 133 kB 14.8 MB/s eta 0:00:01\r\u001b[K     |█████████████████████▉          | 143 kB 14.8 MB/s eta 0:00:01\r\u001b[K     |███████████████████████▍        | 153 kB 14.8 MB/s eta 0:00:01\r\u001b[K     |█████████████████████████       | 163 kB 14.8 MB/s eta 0:00:01\r\u001b[K     |██████████████████████████▋     | 174 kB 14.8 MB/s eta 0:00:01\r\u001b[K     |████████████████████████████▏   | 184 kB 14.8 MB/s eta 0:00:01\r\u001b[K     |█████████████████████████████▊  | 194 kB 14.8 MB/s eta 0:00:01\r\u001b[K     |███████████████████████████████▎| 204 kB 14.8 MB/s eta 0:00:01\r\u001b[K     |████████████████████████████████| 209 kB 14.8 MB/s \n",
            "\u001b[?25h"
          ]
        }
      ]
    },
    {
      "cell_type": "code",
      "source": [
        "import nltk\n",
        "nltk.download('stopwords')"
      ],
      "metadata": {
        "colab": {
          "base_uri": "https://localhost:8080/"
        },
        "id": "yNJnFL_bNWR6",
        "outputId": "21813c33-51d2-4805-a4b3-323a7bb0aa7e"
      },
      "execution_count": 4,
      "outputs": [
        {
          "output_type": "stream",
          "name": "stdout",
          "text": [
            "[nltk_data] Downloading package stopwords to /root/nltk_data...\n",
            "[nltk_data]   Unzipping corpora/stopwords.zip.\n"
          ]
        },
        {
          "output_type": "execute_result",
          "data": {
            "text/plain": [
              "True"
            ]
          },
          "metadata": {},
          "execution_count": 4
        }
      ]
    },
    {
      "cell_type": "code",
      "source": [
        "import pickle\n",
        "# untuk mempermudah menyimpan objek untuk pemodelan maupun deployment"
      ],
      "metadata": {
        "id": "mdTO1cJzOBLN"
      },
      "execution_count": null,
      "outputs": []
    }
  ]
}